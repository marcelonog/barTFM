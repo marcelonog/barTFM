{
 "cells": [
  {
   "cell_type": "code",
   "execution_count": 8,
   "id": "1817f107",
   "metadata": {},
   "outputs": [],
   "source": [
    "import pandas as pd"
   ]
  },
  {
   "cell_type": "code",
   "execution_count": 16,
   "id": "cb397941",
   "metadata": {},
   "outputs": [],
   "source": [
    "def origen():\n",
    "# Lee el archivo seleccionado\n",
    "    file = 'barDic2019.csv'\n",
    "    df = pd.read_csv(file)\n",
    "    return df, True"
   ]
  },
  {
   "cell_type": "code",
   "execution_count": 23,
   "id": "a4ea7091",
   "metadata": {},
   "outputs": [],
   "source": [
    "def explorar(data):\n",
    "    df_types = pd.DataFrame(data.dtypes)\n",
    "    \"\"\"\n",
    "        df_types = pd.DataFrame(data.dtypes, columns=['Tipo Dato'])\n",
    "        numerical_cols = df_types[~df_types['Tipo Dato'].isin(['object',\n",
    "                    'bool'])].index.values\n",
    "\n",
    "        df_types['Count'] = data.count()\n",
    "        df_types['Valores Unicos'] = data.nunique()\n",
    "        df_types['Min'] = data[numerical_cols].min()\n",
    "        df_types['Máx'] = data[numerical_cols].max()\n",
    "        df_types['Promedio'] = data[numerical_cols].mean()\n",
    "        df_types['Mediana'] = data[numerical_cols].median()\n",
    "        df_types['Dev.Std.'] = data[numerical_cols].std()\n",
    "    \"\"\"\n",
    "   # df_types = pd.DataFrame(data)\n",
    "    return df_types.astype(str)"
   ]
  },
  {
   "cell_type": "code",
   "execution_count": 17,
   "id": "773c4db6",
   "metadata": {},
   "outputs": [
    {
     "name": "stdout",
     "output_type": "stream",
     "text": [
      "True\n"
     ]
    }
   ],
   "source": [
    "a, b = origen()\n",
    "print(b)"
   ]
  },
  {
   "cell_type": "code",
   "execution_count": 40,
   "id": "da6ac04f",
   "metadata": {},
   "outputs": [
    {
     "name": "stdout",
     "output_type": "stream",
     "text": [
      "Index(['REGISTRO', 'TIPO_ENCUESTA', 'PC1', 'COD_HABITAT', 'PC3', 'COD_EDAD',\n",
      "       'PC4', 'PC6', 'PC7', 'PC7A',\n",
      "       ...\n",
      "       'P2105R', 'P2105B', 'P2106', 'P2106A', 'P2009', 'P2010', 'P2012',\n",
      "       'P2013', 'P2014', 'P2015'],\n",
      "      dtype='object', length=117)\n"
     ]
    }
   ],
   "source": [
    "c = explorar(a)\n",
    "print(c.index)"
   ]
  },
  {
   "cell_type": "code",
   "execution_count": null,
   "id": "75c7baec",
   "metadata": {},
   "outputs": [],
   "source": []
  }
 ],
 "metadata": {
  "kernelspec": {
   "display_name": "Python 3 (ipykernel)",
   "language": "python",
   "name": "python3"
  },
  "language_info": {
   "codemirror_mode": {
    "name": "ipython",
    "version": 3
   },
   "file_extension": ".py",
   "mimetype": "text/x-python",
   "name": "python",
   "nbconvert_exporter": "python",
   "pygments_lexer": "ipython3",
   "version": "3.10.9"
  }
 },
 "nbformat": 4,
 "nbformat_minor": 5
}
